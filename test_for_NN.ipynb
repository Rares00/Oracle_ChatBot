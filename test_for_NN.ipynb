{
 "cells": [
  {
   "cell_type": "code",
   "execution_count": 55,
   "metadata": {},
   "outputs": [],
   "source": [
    "import main as m"
   ]
  },
  {
   "cell_type": "code",
   "execution_count": 56,
   "metadata": {},
   "outputs": [],
   "source": [
    "import pandas as pd\n",
    "import numpy as np\n",
    "from sklearn.preprocessing import StandardScaler\n",
    "from sklearn.model_selection import train_test_split\n",
    "from keras.models import Sequential\n",
    "from keras.layers import LSTM, Dense, Dropout\n",
    "from keras.optimizers import SGD"
   ]
  },
  {
   "cell_type": "code",
   "execution_count": 57,
   "metadata": {},
   "outputs": [],
   "source": [
    "df = m.filter_data"
   ]
  },
  {
   "cell_type": "code",
   "execution_count": 58,
   "metadata": {},
   "outputs": [],
   "source": [
    "# Split the data into input and target arrays for temperature prediction\n",
    "X_temp = df[['Precipitation', 'Humidity', 'Pressure', 'Wind Speed']].values\n",
    "y_temp = df['Temperature'].values\n",
    "\n",
    "# Split the data into input and target arrays for precipitation prediction\n",
    "X_prec = df[['Temperature', 'Humidity', 'Pressure', 'Wind Speed']].values\n",
    "y_prec = df['Precipitation'].values\n"
   ]
  },
  {
   "cell_type": "code",
   "execution_count": 59,
   "metadata": {},
   "outputs": [],
   "source": [
    "# We split the dataset into a training and test set.\n",
    "\n",
    "#For Temperature:\n",
    "\n",
    "x_temp_train , x_temp_test , y_temp_train , y_temp_test = train_test_split(X_temp, y_temp, test_size =0.2)\n",
    "\n",
    "#For Precipitation\n",
    "\n",
    "x_prec_train , x_prec_test , y_prec_train , y_prec_test = train_test_split(X_prec, y_prec, test_size =0.2)"
   ]
  },
  {
   "cell_type": "code",
   "execution_count": 60,
   "metadata": {},
   "outputs": [],
   "source": [
    "# We reshape y_train and y_test since train_test_split\n",
    "# outputs them as (nr_samples,) but we need\n",
    "# (nr_samples ,1)\n",
    "\n",
    "#for temperature\n",
    "y_temp_train = y_temp_train.reshape((-1,1))\n",
    "y_temp_test = y_temp_test.reshape((-1,1))\n",
    "\n",
    "#for precipitation\n",
    "\n",
    "y_prec_train = y_prec_train.reshape((-1,1))\n",
    "y_prec_test = y_prec_test.reshape((-1,1))\n"
   ]
  },
  {
   "cell_type": "code",
   "execution_count": 61,
   "metadata": {},
   "outputs": [],
   "source": [
    "#Now we reserve the test set and perform all\n",
    "# preprocessing and training with the train set only. # The first preprocessing step is to stantardise our # features and target.\n",
    "x_scaler = StandardScaler()\n",
    "y_scaler = StandardScaler()\n",
    "\n",
    "x_temp_train = x_scaler.fit_transform(x_temp_train)\n",
    "x_prec_train = x_scaler.fit_transform(x_prec_train)\n",
    "\n",
    "y_temp_train = y_scaler.fit_transform(y_temp_train)\n",
    "y_prec_train = y_scaler.fit_transform(y_prec_train)\n",
    "\n",
    "#test\n",
    "\n",
    "x_temp_test = x_scaler.transform(x_temp_test)\n",
    "x_prec_test = x_scaler.transform(x_prec_test)\n",
    "\n",
    "y_temp_test = y_scaler.transform(y_temp_test)\n",
    "y_prec_test = y_scaler.transform(y_prec_test)"
   ]
  },
  {
   "cell_type": "code",
   "execution_count": 63,
   "metadata": {},
   "outputs": [],
   "source": [
    "#data transdormation for LSTM\n",
    "#https://machinelearningmastery.com/time-series-prediction-lstm-recurrent-neural-networks-python-keras/\n",
    "\n",
    "x_temp_train = np.reshape(x_temp_train, (x_temp_train.shape[0], 1, x_temp_train.shape[1]))\n",
    "x_temp_test = np.reshape(x_temp_test, (x_temp_test.shape[0], 1, x_temp_test.shape[1]))\n",
    "\n",
    "x_prec_train = np.reshape(x_prec_train, (x_prec_train.shape[0], 1, x_prec_train.shape[1]))\n",
    "x_prec_test = np.reshape(x_prec_test, (x_prec_test.shape[0], 1, x_prec_test.shape[1]))\n",
    "\n"
   ]
  },
  {
   "cell_type": "code",
   "execution_count": 65,
   "metadata": {},
   "outputs": [
    {
     "data": {
      "text/plain": [
       "(35060, 1, 4)"
      ]
     },
     "execution_count": 65,
     "metadata": {},
     "output_type": "execute_result"
    }
   ],
   "source": [
    "x_temp_train.shape"
   ]
  },
  {
   "cell_type": "code",
   "execution_count": 67,
   "metadata": {},
   "outputs": [
    {
     "data": {
      "text/plain": [
       "(8765, 1, 4)"
      ]
     },
     "execution_count": 67,
     "metadata": {},
     "output_type": "execute_result"
    }
   ],
   "source": [
    "x_prec_test.shape"
   ]
  }
 ],
 "metadata": {
  "kernelspec": {
   "display_name": "sns-final",
   "language": "python",
   "name": "python3"
  },
  "language_info": {
   "codemirror_mode": {
    "name": "ipython",
    "version": 3
   },
   "file_extension": ".py",
   "mimetype": "text/x-python",
   "name": "python",
   "nbconvert_exporter": "python",
   "pygments_lexer": "ipython3",
   "version": "3.7.16"
  },
  "orig_nbformat": 4,
  "vscode": {
   "interpreter": {
    "hash": "31c88cff65b6199c283c4fad00015aab940815a36e66ccbc3ce57c58211a10b4"
   }
  }
 },
 "nbformat": 4,
 "nbformat_minor": 2
}

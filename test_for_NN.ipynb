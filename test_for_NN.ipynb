{
 "cells": [
  {
   "cell_type": "code",
   "execution_count": 21,
   "metadata": {},
   "outputs": [],
   "source": [
    "import main as m"
   ]
  },
  {
   "cell_type": "code",
   "execution_count": 22,
   "metadata": {},
   "outputs": [],
   "source": [
    "import pandas as pd\n",
    "import numpy as np\n",
    "from sklearn.preprocessing import StandardScaler\n",
    "from sklearn.model_selection import train_test_split\n",
    "from keras.models import Sequential\n",
    "from keras.layers import LSTM, Dense, Dropout\n",
    "from keras.optimizers import SGD"
   ]
  },
  {
   "cell_type": "code",
   "execution_count": 23,
   "metadata": {},
   "outputs": [],
   "source": [
    "df = m.filter_data"
   ]
  },
  {
   "cell_type": "code",
   "execution_count": 24,
   "metadata": {},
   "outputs": [],
   "source": [
    "# Split the data into input and target arrays for temperature prediction\n",
    "X_temp = df[['Precipitation', 'Humidity', 'Pressure', 'Wind Speed']].values\n",
    "y_temp = df['Temperature'].values\n",
    "\n",
    "# Split the data into input and target arrays for precipitation prediction\n",
    "X_prec = df[['Temperature', 'Humidity', 'Pressure', 'Wind Speed']].values\n",
    "y_prec = df['Precipitation'].values\n"
   ]
  },
  {
   "cell_type": "code",
   "execution_count": 25,
   "metadata": {},
   "outputs": [],
   "source": [
    "# We split the dataset into a training and test set.\n",
    "\n",
    "#For Temperature:\n",
    "\n",
    "x_temp_train , x_temp_test , y_temp_train , y_temp_test = train_test_split(X_temp, y_temp, test_size =0.2, random_state=42)\n",
    "\n",
    "#For Precipitation\n",
    "\n",
    "x_prec_train , x_prec_test , y_prec_train , y_prec_test = train_test_split(X_prec, y_prec, test_size =0.2, random_state=42)"
   ]
  },
  {
   "cell_type": "code",
   "execution_count": 26,
   "metadata": {},
   "outputs": [],
   "source": [
    "# We reshape y_train and y_test since train_test_split\n",
    "# outputs them as (nr_samples,) but we need\n",
    "# (nr_samples ,1)\n",
    "\n",
    "#for temperature\n",
    "y_temp_train = y_temp_train.reshape((-1,1))\n",
    "y_temp_test = y_temp_test.reshape((-1,1))\n",
    "\n",
    "#for precipitation\n",
    "\n",
    "y_prec_train = y_prec_train.reshape((-1,1))\n",
    "y_prec_test = y_prec_test.reshape((-1,1))\n"
   ]
  },
  {
   "cell_type": "code",
   "execution_count": 27,
   "metadata": {},
   "outputs": [],
   "source": [
    "#Now we reserve the test set and perform all\n",
    "# preprocessing and training with the train set only. # The first preprocessing step is to stantardise our # features and target.\n",
    "x_scaler = StandardScaler()\n",
    "y_scaler = StandardScaler()\n",
    "\n",
    "x_temp_train = x_scaler.fit_transform(x_temp_train)\n",
    "x_prec_train = x_scaler.fit_transform(x_prec_train)\n",
    "\n",
    "y_temp_train = y_scaler.fit_transform(y_temp_train)\n",
    "y_prec_train = y_scaler.fit_transform(y_prec_train)\n",
    "\n",
    "#test\n",
    "\n",
    "x_temp_test = x_scaler.transform(x_temp_test)\n",
    "x_prec_test = x_scaler.transform(x_prec_test)\n",
    "\n",
    "y_temp_test = y_scaler.transform(y_temp_test)\n",
    "y_prec_test = y_scaler.transform(y_prec_test)"
   ]
  },
  {
   "cell_type": "code",
   "execution_count": 28,
   "metadata": {},
   "outputs": [
    {
     "data": {
      "text/plain": [
       "(35060, 4)"
      ]
     },
     "execution_count": 28,
     "metadata": {},
     "output_type": "execute_result"
    }
   ],
   "source": [
    "x_temp_train.shape"
   ]
  },
  {
   "cell_type": "code",
   "execution_count": 29,
   "metadata": {},
   "outputs": [],
   "source": [
    "#data transdormation for LSTM\n",
    "#https://machinelearningmastery.com/time-series-prediction-lstm-recurrent-neural-networks-python-keras/\n",
    "\n",
    "x_temp_train = np.reshape(x_temp_train, (x_temp_train.shape[0], 1, x_temp_train.shape[1]))\n",
    "x_temp_test = np.reshape(x_temp_test, (x_temp_test.shape[0], 1, x_temp_test.shape[1]))\n",
    "\n",
    "x_prec_train = np.reshape(x_prec_train, (x_prec_train.shape[0], 1, x_prec_train.shape[1]))\n",
    "x_prec_test = np.reshape(x_prec_test, (x_prec_test.shape[0], 1, x_prec_test.shape[1]))\n",
    "\n"
   ]
  },
  {
   "cell_type": "code",
   "execution_count": 30,
   "metadata": {},
   "outputs": [
    {
     "data": {
      "text/plain": [
       "(8765, 1, 4)"
      ]
     },
     "execution_count": 30,
     "metadata": {},
     "output_type": "execute_result"
    }
   ],
   "source": [
    "x_prec_test.shape"
   ]
  },
  {
   "cell_type": "code",
   "execution_count": 31,
   "metadata": {},
   "outputs": [],
   "source": [
    "#build the neural network\n",
    "batch_size =64 \n",
    "epochs = 50\n",
    "\n",
    "modelT = Sequential()\n",
    "modelT.add(LSTM(16, input_shape =(1,4)))\n",
    "modelT.add(Dropout(0.2))\n",
    "modelT.add(Dense(64, activation=\"relu\"))\n",
    "modelT.add(Dropout(0.2))\n",
    "modelT.add(Dense(64, activation=\"relu\")) \n",
    "modelT.add(Dropout(0.2))\n",
    "modelT.add(Dense(1, activation=\"linear\"))\n",
    "\n",
    "modelP = Sequential()\n",
    "modelP.add(LSTM(16, input_shape = (1,4)))\n",
    "modelP.add(Dropout(0.2))\n",
    "modelP.add(Dense(64, activation=\"relu\"))\n",
    "modelP.add(Dropout(0.2))\n",
    "modelP.add(Dense(64, activation=\"relu\")) \n",
    "modelP.add(Dropout(0.2))\n",
    "modelP.add(Dense(1, activation=\"linear\"))\n"
   ]
  },
  {
   "cell_type": "code",
   "execution_count": 32,
   "metadata": {},
   "outputs": [
    {
     "name": "stdout",
     "output_type": "stream",
     "text": [
      "Epoch 1/50\n",
      "494/494 [==============================] - 3s 3ms/step - loss: 0.8970 - val_loss: 1.0905\n",
      "Epoch 2/50\n",
      "494/494 [==============================] - 1s 2ms/step - loss: 0.3804 - val_loss: 0.0476\n",
      "Epoch 3/50\n",
      "494/494 [==============================] - 1s 2ms/step - loss: 0.0806 - val_loss: 0.0386\n",
      "Epoch 4/50\n",
      "494/494 [==============================] - 1s 2ms/step - loss: 0.0694 - val_loss: 0.0477\n",
      "Epoch 5/50\n",
      "494/494 [==============================] - 1s 2ms/step - loss: 0.0724 - val_loss: 0.0528\n",
      "Epoch 6/50\n",
      "494/494 [==============================] - 1s 3ms/step - loss: 0.0739 - val_loss: 0.0179\n",
      "Epoch 7/50\n",
      "494/494 [==============================] - 1s 2ms/step - loss: 0.0616 - val_loss: 0.0145\n",
      "Epoch 8/50\n",
      "494/494 [==============================] - 1s 2ms/step - loss: 0.0630 - val_loss: 0.0286\n",
      "Epoch 9/50\n",
      "494/494 [==============================] - 1s 2ms/step - loss: 0.0969 - val_loss: 0.0248\n",
      "Epoch 10/50\n",
      "494/494 [==============================] - 1s 2ms/step - loss: 0.0697 - val_loss: 0.0410\n",
      "Epoch 11/50\n",
      "494/494 [==============================] - 1s 2ms/step - loss: 0.0583 - val_loss: 0.0342\n",
      "Epoch 12/50\n",
      "494/494 [==============================] - 1s 3ms/step - loss: 0.0765 - val_loss: 0.0604\n",
      "Epoch 13/50\n",
      "494/494 [==============================] - 1s 2ms/step - loss: 0.0800 - val_loss: 0.0270\n",
      "Epoch 14/50\n",
      "494/494 [==============================] - 1s 2ms/step - loss: 0.0670 - val_loss: 0.0155\n",
      "Epoch 15/50\n",
      "494/494 [==============================] - 1s 2ms/step - loss: 0.0797 - val_loss: 0.0178\n",
      "Epoch 16/50\n",
      "494/494 [==============================] - 1s 2ms/step - loss: 0.0529 - val_loss: 0.0245\n",
      "Epoch 17/50\n",
      "494/494 [==============================] - 1s 2ms/step - loss: 0.0700 - val_loss: 0.0227\n",
      "Epoch 18/50\n",
      "494/494 [==============================] - 1s 2ms/step - loss: 0.0791 - val_loss: 0.0551\n",
      "Epoch 19/50\n",
      "494/494 [==============================] - 1s 2ms/step - loss: 0.0594 - val_loss: 0.0358\n",
      "Epoch 20/50\n",
      "494/494 [==============================] - 1s 2ms/step - loss: 0.0713 - val_loss: 0.0157\n",
      "Epoch 21/50\n",
      "494/494 [==============================] - 1s 2ms/step - loss: 0.0604 - val_loss: 0.0320\n",
      "Epoch 22/50\n",
      "494/494 [==============================] - 1s 2ms/step - loss: 0.0488 - val_loss: 0.0301\n",
      "Epoch 23/50\n",
      "494/494 [==============================] - 1s 3ms/step - loss: 0.0677 - val_loss: 0.0140\n",
      "Epoch 24/50\n",
      "494/494 [==============================] - 1s 2ms/step - loss: 0.0769 - val_loss: 0.0358\n",
      "Epoch 25/50\n",
      "494/494 [==============================] - 1s 2ms/step - loss: 0.0657 - val_loss: 0.0284\n",
      "Epoch 26/50\n",
      "494/494 [==============================] - 1s 2ms/step - loss: 0.0567 - val_loss: 0.0495\n",
      "Epoch 27/50\n",
      "494/494 [==============================] - 1s 2ms/step - loss: 0.0686 - val_loss: 0.0194\n",
      "Epoch 28/50\n",
      "494/494 [==============================] - 1s 2ms/step - loss: 0.0636 - val_loss: 0.0487\n",
      "Epoch 29/50\n",
      "494/494 [==============================] - 1s 2ms/step - loss: 0.0658 - val_loss: 0.0144\n",
      "Epoch 30/50\n",
      "494/494 [==============================] - 1s 2ms/step - loss: 0.0645 - val_loss: 0.0156\n",
      "Epoch 31/50\n",
      "494/494 [==============================] - 1s 2ms/step - loss: 0.0606 - val_loss: 0.0296\n",
      "Epoch 32/50\n",
      "494/494 [==============================] - 1s 2ms/step - loss: 0.0627 - val_loss: 0.0404\n",
      "Epoch 33/50\n",
      "494/494 [==============================] - 1s 2ms/step - loss: 0.0463 - val_loss: 0.0193\n",
      "Epoch 34/50\n",
      "494/494 [==============================] - 1s 2ms/step - loss: 0.0571 - val_loss: 0.0161\n",
      "Epoch 35/50\n",
      "494/494 [==============================] - 1s 2ms/step - loss: 0.0627 - val_loss: 0.0219\n",
      "Epoch 36/50\n",
      "494/494 [==============================] - 1s 2ms/step - loss: 0.0534 - val_loss: 0.0261\n",
      "Epoch 37/50\n",
      "494/494 [==============================] - 1s 2ms/step - loss: 0.0474 - val_loss: 0.0280\n",
      "Epoch 38/50\n",
      "494/494 [==============================] - 1s 2ms/step - loss: 0.0570 - val_loss: 0.0161\n",
      "Epoch 39/50\n",
      "494/494 [==============================] - 1s 2ms/step - loss: 0.0523 - val_loss: 0.0218\n",
      "Epoch 40/50\n",
      "494/494 [==============================] - 1s 2ms/step - loss: 0.0572 - val_loss: 0.0165\n",
      "Epoch 41/50\n",
      "494/494 [==============================] - 1s 2ms/step - loss: 0.0483 - val_loss: 0.0299\n",
      "Epoch 42/50\n",
      "494/494 [==============================] - 1s 2ms/step - loss: 0.0607 - val_loss: 0.0145\n",
      "Epoch 43/50\n",
      "494/494 [==============================] - 1s 2ms/step - loss: 0.0546 - val_loss: 0.0450\n",
      "Epoch 44/50\n",
      "494/494 [==============================] - 1s 2ms/step - loss: 0.0573 - val_loss: 0.0237\n",
      "Epoch 45/50\n",
      "494/494 [==============================] - 1s 2ms/step - loss: 0.0518 - val_loss: 0.0222\n",
      "Epoch 46/50\n",
      "494/494 [==============================] - 1s 2ms/step - loss: 0.0586 - val_loss: 0.0504\n",
      "Epoch 47/50\n",
      "494/494 [==============================] - 1s 2ms/step - loss: 0.0463 - val_loss: 0.0170\n",
      "Epoch 48/50\n",
      "494/494 [==============================] - 1s 2ms/step - loss: 0.0584 - val_loss: 0.0160\n",
      "Epoch 49/50\n",
      "494/494 [==============================] - 1s 2ms/step - loss: 0.0399 - val_loss: 0.0237\n",
      "Epoch 50/50\n",
      "494/494 [==============================] - 1s 2ms/step - loss: 0.0633 - val_loss: 0.0151\n"
     ]
    }
   ],
   "source": [
    "#complie the methode\n",
    "# We use a Mean Squared Error - mse - loss.\n",
    "\n",
    "modelT.compile(loss=\"mse\", optimizer=SGD())\n",
    "historicalT = modelT.fit(x_temp_train , y_temp_train , batch_size=batch_size , epochs=epochs, verbose=1, validation_split=0.1)\n",
    "\n"
   ]
  },
  {
   "cell_type": "code",
   "execution_count": 33,
   "metadata": {},
   "outputs": [
    {
     "name": "stdout",
     "output_type": "stream",
     "text": [
      "Epoch 1/50\n",
      "494/494 [==============================] - 5s 7ms/step - loss: 0.9064 - val_loss: 1.1491\n",
      "Epoch 2/50\n",
      "494/494 [==============================] - 2s 4ms/step - loss: 0.5561 - val_loss: 0.2198\n",
      "Epoch 3/50\n",
      "494/494 [==============================] - 1s 2ms/step - loss: 0.1167 - val_loss: 0.0097\n",
      "Epoch 4/50\n",
      "494/494 [==============================] - 1s 2ms/step - loss: 0.0867 - val_loss: 5.5595e-04\n",
      "Epoch 5/50\n",
      "494/494 [==============================] - 1s 2ms/step - loss: 0.0987 - val_loss: 0.0124\n",
      "Epoch 6/50\n",
      "494/494 [==============================] - 1s 2ms/step - loss: 0.0814 - val_loss: 0.0139\n",
      "Epoch 7/50\n",
      "494/494 [==============================] - 1s 2ms/step - loss: 0.1114 - val_loss: 0.0278\n",
      "Epoch 8/50\n",
      "494/494 [==============================] - 1s 2ms/step - loss: 0.0679 - val_loss: 0.0112\n",
      "Epoch 9/50\n",
      "494/494 [==============================] - 1s 2ms/step - loss: 0.0651 - val_loss: 0.0218\n",
      "Epoch 10/50\n",
      "494/494 [==============================] - 1s 2ms/step - loss: 0.0825 - val_loss: 0.0076\n",
      "Epoch 11/50\n",
      "494/494 [==============================] - 1s 2ms/step - loss: 0.0738 - val_loss: 0.0155\n",
      "Epoch 12/50\n",
      "494/494 [==============================] - 1s 2ms/step - loss: 0.0735 - val_loss: 0.0257\n",
      "Epoch 13/50\n",
      "494/494 [==============================] - 1s 2ms/step - loss: 0.0729 - val_loss: 0.0013\n",
      "Epoch 14/50\n",
      "494/494 [==============================] - 1s 2ms/step - loss: 0.0776 - val_loss: 1.9905e-04\n",
      "Epoch 15/50\n",
      "494/494 [==============================] - 1s 2ms/step - loss: 0.0764 - val_loss: 0.0075\n",
      "Epoch 16/50\n",
      "494/494 [==============================] - 1s 2ms/step - loss: 0.0932 - val_loss: 0.0059\n",
      "Epoch 17/50\n",
      "494/494 [==============================] - 1s 2ms/step - loss: 0.0538 - val_loss: 0.0016\n",
      "Epoch 18/50\n",
      "494/494 [==============================] - 1s 2ms/step - loss: 0.0715 - val_loss: 0.0044\n",
      "Epoch 19/50\n",
      "494/494 [==============================] - 1s 2ms/step - loss: 0.0565 - val_loss: 0.0052\n",
      "Epoch 20/50\n",
      "494/494 [==============================] - 1s 2ms/step - loss: 0.0710 - val_loss: 0.0146\n",
      "Epoch 21/50\n",
      "494/494 [==============================] - 1s 2ms/step - loss: 0.0505 - val_loss: 0.0167\n",
      "Epoch 22/50\n",
      "494/494 [==============================] - 1s 2ms/step - loss: 0.0873 - val_loss: 0.0134\n",
      "Epoch 23/50\n",
      "494/494 [==============================] - 1s 2ms/step - loss: 0.0696 - val_loss: 0.0118\n",
      "Epoch 24/50\n",
      "494/494 [==============================] - 1s 2ms/step - loss: 0.0652 - val_loss: 0.0010\n",
      "Epoch 25/50\n",
      "494/494 [==============================] - 1s 2ms/step - loss: 0.0597 - val_loss: 0.0173\n",
      "Epoch 26/50\n",
      "494/494 [==============================] - 1s 2ms/step - loss: 0.0539 - val_loss: 0.0169\n",
      "Epoch 27/50\n",
      "494/494 [==============================] - 1s 2ms/step - loss: 0.0614 - val_loss: 0.0393\n",
      "Epoch 28/50\n",
      "494/494 [==============================] - 1s 2ms/step - loss: 0.0559 - val_loss: 7.8561e-04\n",
      "Epoch 29/50\n",
      "494/494 [==============================] - 1s 2ms/step - loss: 0.0694 - val_loss: 0.0017\n",
      "Epoch 30/50\n",
      "494/494 [==============================] - 1s 2ms/step - loss: 0.0460 - val_loss: 0.0053\n",
      "Epoch 31/50\n",
      "494/494 [==============================] - 1s 2ms/step - loss: 0.0481 - val_loss: 0.0066\n",
      "Epoch 32/50\n",
      "494/494 [==============================] - 1s 2ms/step - loss: 0.0459 - val_loss: 0.0045\n",
      "Epoch 33/50\n",
      "494/494 [==============================] - 1s 2ms/step - loss: 0.0614 - val_loss: 6.5500e-04\n",
      "Epoch 34/50\n",
      "494/494 [==============================] - 1s 2ms/step - loss: 0.0565 - val_loss: 0.0064\n",
      "Epoch 35/50\n",
      "494/494 [==============================] - 1s 2ms/step - loss: 0.0769 - val_loss: 0.0342\n",
      "Epoch 36/50\n",
      "494/494 [==============================] - 1s 2ms/step - loss: 0.0523 - val_loss: 1.7668e-04\n",
      "Epoch 37/50\n",
      "494/494 [==============================] - 1s 2ms/step - loss: 0.0341 - val_loss: 0.0342\n",
      "Epoch 38/50\n",
      "494/494 [==============================] - 1s 2ms/step - loss: 0.0580 - val_loss: 0.0045\n",
      "Epoch 39/50\n",
      "494/494 [==============================] - 1s 2ms/step - loss: 0.0470 - val_loss: 0.0201\n",
      "Epoch 40/50\n",
      "494/494 [==============================] - 1s 2ms/step - loss: 0.0527 - val_loss: 0.0137\n",
      "Epoch 41/50\n",
      "494/494 [==============================] - 1s 2ms/step - loss: 0.0377 - val_loss: 0.0026\n",
      "Epoch 42/50\n",
      "494/494 [==============================] - 2s 4ms/step - loss: 0.0513 - val_loss: 0.0243\n",
      "Epoch 43/50\n",
      "494/494 [==============================] - 3s 5ms/step - loss: 0.0299 - val_loss: 0.0035\n",
      "Epoch 44/50\n",
      "494/494 [==============================] - 3s 5ms/step - loss: 0.0531 - val_loss: 0.0110\n",
      "Epoch 45/50\n",
      "494/494 [==============================] - 2s 4ms/step - loss: 0.0478 - val_loss: 0.0224\n",
      "Epoch 46/50\n",
      "494/494 [==============================] - 1s 2ms/step - loss: 0.0600 - val_loss: 0.0106\n",
      "Epoch 47/50\n",
      "494/494 [==============================] - 1s 2ms/step - loss: 0.0374 - val_loss: 0.0454\n",
      "Epoch 48/50\n",
      "494/494 [==============================] - 1s 2ms/step - loss: 0.0659 - val_loss: 0.0275\n",
      "Epoch 49/50\n",
      "494/494 [==============================] - 1s 2ms/step - loss: 0.0465 - val_loss: 0.0136\n",
      "Epoch 50/50\n",
      "494/494 [==============================] - 1s 2ms/step - loss: 0.0423 - val_loss: 0.0169\n"
     ]
    }
   ],
   "source": [
    "modelP.compile(loss=\"mse\", optimizer=SGD())\n",
    "historicalP = modelP.fit(x_prec_train , y_prec_train , batch_size=batch_size , epochs=epochs, verbose=1, validation_split=0.1)"
   ]
  },
  {
   "cell_type": "code",
   "execution_count": 34,
   "metadata": {},
   "outputs": [
    {
     "name": "stdout",
     "output_type": "stream",
     "text": [
      "274/274 [==============================] - 0s 1ms/step - loss: 0.1055\n",
      "274/274 [==============================] - 0s 1ms/step - loss: 0.0119\n"
     ]
    },
    {
     "data": {
      "text/plain": [
       "0.011933359317481518"
      ]
     },
     "execution_count": 34,
     "metadata": {},
     "output_type": "execute_result"
    }
   ],
   "source": [
    "#evaluation\n",
    "modelT.evaluate(x_temp_test , y_temp_test)\n",
    "\n",
    "modelP.evaluate(x_prec_test , y_prec_test)"
   ]
  },
  {
   "cell_type": "code",
   "execution_count": 35,
   "metadata": {},
   "outputs": [],
   "source": [
    "import matplotlib.pyplot as plt"
   ]
  },
  {
   "cell_type": "code",
   "execution_count": 36,
   "metadata": {},
   "outputs": [
    {
     "data": {
      "text/plain": [
       "{'loss': [0.8970214128494263,\n",
       "  0.3804023563861847,\n",
       "  0.08061358332633972,\n",
       "  0.06939612329006195,\n",
       "  0.07244634628295898,\n",
       "  0.07391872256994247,\n",
       "  0.06158857047557831,\n",
       "  0.06302817165851593,\n",
       "  0.09692844748497009,\n",
       "  0.06966004520654678,\n",
       "  0.05832906439900398,\n",
       "  0.076468825340271,\n",
       "  0.07995345443487167,\n",
       "  0.06702543050050735,\n",
       "  0.0796738788485527,\n",
       "  0.05289974436163902,\n",
       "  0.06996532529592514,\n",
       "  0.07910417765378952,\n",
       "  0.05944562330842018,\n",
       "  0.07133262604475021,\n",
       "  0.060350120067596436,\n",
       "  0.048849791288375854,\n",
       "  0.06765786558389664,\n",
       "  0.07688266038894653,\n",
       "  0.06569047272205353,\n",
       "  0.05673797428607941,\n",
       "  0.06863569468259811,\n",
       "  0.06359466910362244,\n",
       "  0.06580334901809692,\n",
       "  0.06449036300182343,\n",
       "  0.06059715151786804,\n",
       "  0.06265371292829514,\n",
       "  0.04634817689657211,\n",
       "  0.05708269402384758,\n",
       "  0.06267788261175156,\n",
       "  0.05343108996748924,\n",
       "  0.04744124412536621,\n",
       "  0.05698547884821892,\n",
       "  0.052333831787109375,\n",
       "  0.05717496573925018,\n",
       "  0.04826194420456886,\n",
       "  0.060701884329319,\n",
       "  0.054635290056467056,\n",
       "  0.05733051523566246,\n",
       "  0.05175266042351723,\n",
       "  0.05858296900987625,\n",
       "  0.04625768959522247,\n",
       "  0.05840087682008743,\n",
       "  0.03988742083311081,\n",
       "  0.06328404694795609],\n",
       " 'val_loss': [1.0904799699783325,\n",
       "  0.04760003089904785,\n",
       "  0.038643788546323776,\n",
       "  0.047714728862047195,\n",
       "  0.052756376564502716,\n",
       "  0.0179444532841444,\n",
       "  0.014545503072440624,\n",
       "  0.028605690225958824,\n",
       "  0.024807456880807877,\n",
       "  0.04098692536354065,\n",
       "  0.03415385261178017,\n",
       "  0.060412388294935226,\n",
       "  0.026951296254992485,\n",
       "  0.015463723801076412,\n",
       "  0.01784428395330906,\n",
       "  0.024531442672014236,\n",
       "  0.022684479132294655,\n",
       "  0.055087145417928696,\n",
       "  0.035764455795288086,\n",
       "  0.015711050480604172,\n",
       "  0.03195427358150482,\n",
       "  0.030085181817412376,\n",
       "  0.013971958309412003,\n",
       "  0.03578207269310951,\n",
       "  0.02836005389690399,\n",
       "  0.04945426061749458,\n",
       "  0.01938517950475216,\n",
       "  0.04872608929872513,\n",
       "  0.01441411953419447,\n",
       "  0.015619336627423763,\n",
       "  0.029632601886987686,\n",
       "  0.04038005694746971,\n",
       "  0.019284015521407127,\n",
       "  0.01606285199522972,\n",
       "  0.021892428398132324,\n",
       "  0.0260522048920393,\n",
       "  0.02798781730234623,\n",
       "  0.01610717363655567,\n",
       "  0.02184516377747059,\n",
       "  0.016481459140777588,\n",
       "  0.029899729415774345,\n",
       "  0.01446268055588007,\n",
       "  0.044977400451898575,\n",
       "  0.023700103163719177,\n",
       "  0.02222708985209465,\n",
       "  0.05036742985248566,\n",
       "  0.017024299129843712,\n",
       "  0.015967821702361107,\n",
       "  0.023694273084402084,\n",
       "  0.015115479938685894]}"
      ]
     },
     "execution_count": 36,
     "metadata": {},
     "output_type": "execute_result"
    }
   ],
   "source": [
    "historicalT.history"
   ]
  },
  {
   "cell_type": "code",
   "execution_count": 37,
   "metadata": {},
   "outputs": [
    {
     "data": {
      "text/plain": [
       "{'loss': [0.9063549637794495,\n",
       "  0.5561138987541199,\n",
       "  0.11667553335428238,\n",
       "  0.08673419803380966,\n",
       "  0.0987241342663765,\n",
       "  0.08139736950397491,\n",
       "  0.11140064150094986,\n",
       "  0.0679355189204216,\n",
       "  0.06513462215662003,\n",
       "  0.08247154951095581,\n",
       "  0.07378337532281876,\n",
       "  0.07346387952566147,\n",
       "  0.07290802150964737,\n",
       "  0.07756960391998291,\n",
       "  0.07638968527317047,\n",
       "  0.09318774938583374,\n",
       "  0.05382726341485977,\n",
       "  0.07148391008377075,\n",
       "  0.056465376168489456,\n",
       "  0.07097581028938293,\n",
       "  0.05050165578722954,\n",
       "  0.08733418583869934,\n",
       "  0.06961140781641006,\n",
       "  0.06524520367383957,\n",
       "  0.059682637453079224,\n",
       "  0.05391281843185425,\n",
       "  0.06144802272319794,\n",
       "  0.05586353316903114,\n",
       "  0.0693928599357605,\n",
       "  0.04596356302499771,\n",
       "  0.04806452617049217,\n",
       "  0.04585094004869461,\n",
       "  0.06141652166843414,\n",
       "  0.05654687434434891,\n",
       "  0.076943539083004,\n",
       "  0.05234765261411667,\n",
       "  0.03414083644747734,\n",
       "  0.058043304830789566,\n",
       "  0.04703010618686676,\n",
       "  0.05271436274051666,\n",
       "  0.03770242631435394,\n",
       "  0.05132460966706276,\n",
       "  0.029888847842812538,\n",
       "  0.053050924092531204,\n",
       "  0.04776502773165703,\n",
       "  0.05997573211789131,\n",
       "  0.037366677075624466,\n",
       "  0.06592898070812225,\n",
       "  0.046510230749845505,\n",
       "  0.042296282947063446],\n",
       " 'val_loss': [1.1491103172302246,\n",
       "  0.21975809335708618,\n",
       "  0.009722196497023106,\n",
       "  0.0005559534183703363,\n",
       "  0.012360557913780212,\n",
       "  0.013935195282101631,\n",
       "  0.027801303192973137,\n",
       "  0.011231685988605022,\n",
       "  0.02184893935918808,\n",
       "  0.0075802928768098354,\n",
       "  0.015481746755540371,\n",
       "  0.025721188634634018,\n",
       "  0.0013436758890748024,\n",
       "  0.00019905457156710327,\n",
       "  0.007454168517142534,\n",
       "  0.005864165723323822,\n",
       "  0.001608675578609109,\n",
       "  0.004367921035736799,\n",
       "  0.005237918347120285,\n",
       "  0.014649299904704094,\n",
       "  0.01666826568543911,\n",
       "  0.013375694863498211,\n",
       "  0.011806986294686794,\n",
       "  0.001014157896861434,\n",
       "  0.017284663394093513,\n",
       "  0.016907215118408203,\n",
       "  0.039303552359342575,\n",
       "  0.0007856054580770433,\n",
       "  0.0017128402832895517,\n",
       "  0.005344049073755741,\n",
       "  0.006641005165874958,\n",
       "  0.004499140661209822,\n",
       "  0.0006549995741806924,\n",
       "  0.006353738252073526,\n",
       "  0.03423153609037399,\n",
       "  0.0001766841596690938,\n",
       "  0.034210577607154846,\n",
       "  0.004458850249648094,\n",
       "  0.020053135231137276,\n",
       "  0.013747666031122208,\n",
       "  0.0026331653352826834,\n",
       "  0.0243202056735754,\n",
       "  0.003527493216097355,\n",
       "  0.010951846837997437,\n",
       "  0.022361963987350464,\n",
       "  0.010628986172378063,\n",
       "  0.04540735483169556,\n",
       "  0.02747306041419506,\n",
       "  0.013612763956189156,\n",
       "  0.01694612018764019]}"
      ]
     },
     "execution_count": 37,
     "metadata": {},
     "output_type": "execute_result"
    }
   ],
   "source": [
    "historicalP.history"
   ]
  },
  {
   "cell_type": "markdown",
   "metadata": {},
   "source": []
  },
  {
   "cell_type": "code",
   "execution_count": 38,
   "metadata": {},
   "outputs": [],
   "source": [
    "from keras.utils.vis_utils import plot_model"
   ]
  },
  {
   "cell_type": "code",
   "execution_count": 39,
   "metadata": {},
   "outputs": [
    {
     "data": {
      "image/png": "[encoded data removed]",
      "text/plain": [
       "<Figure size 640x480 with 1 Axes>"
      ]
     },
     "metadata": {},
     "output_type": "display_data"
    },
    {
     "data": {
      "image/png": "[encoded data removed]",
      "text/plain": [
       "<IPython.core.display.Image object>"
      ]
     },
     "execution_count": 39,
     "metadata": {},
     "output_type": "execute_result"
    }
   ],
   "source": [
    "# Visualize model performance\n",
    "plt.plot(historicalT.history['loss'], label='Temp Train Loss')\n",
    "plt.plot(historicalT.history['val_loss'], label='Temp Val Loss')\n",
    "plt.plot(historicalP.history['loss'], label='Precip Train Loss')\n",
    "plt.plot(historicalP.history['val_loss'], label='Precip Val Loss')\n",
    "plt.title('Model Loss')\n",
    "plt.ylabel('Loss')\n",
    "plt.xlabel('Epoch')\n",
    "plt.legend()\n",
    "plt.show()\n",
    "\n",
    "# Plot model architectures\n",
    "plot_model(modelT, to_file='model_temp.png', show_shapes=True, show_layer_names=True)\n",
    "plot_model(modelP, to_file='model_precip.png', show_shapes=True, show_layer_names=True)\n"
   ]
  },
  {
   "cell_type": "code",
   "execution_count": null,
   "metadata": {},
   "outputs": [],
   "source": []
  }
 ],
 "metadata": {
  "kernelspec": {
   "display_name": "sns-final",
   "language": "python",
   "name": "python3"
  },
  "language_info": {
   "codemirror_mode": {
    "name": "ipython",
    "version": 3
   },
   "file_extension": ".py",
   "mimetype": "text/x-python",
   "name": "python",
   "nbconvert_exporter": "python",
   "pygments_lexer": "ipython3",
   "version": "3.7.16"
  },
  "orig_nbformat": 4,
  "vscode": {
   "interpreter": {
    "hash": "31c88cff65b6199c283c4fad00015aab940815a36e66ccbc3ce57c58211a10b4"
   }
  }
 },
 "nbformat": 4,
 "nbformat_minor": 2
}

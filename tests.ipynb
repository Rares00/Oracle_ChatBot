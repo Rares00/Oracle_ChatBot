{
 "cells": [
  {
   "cell_type": "code",
   "execution_count": 22,
   "metadata": {},
   "outputs": [
    {
     "name": "stdout",
     "output_type": "stream",
     "text": [
      "        YEAR MO DY  HR   T2M   RH2M PRECTOTCORR      PS  WS50M\n",
      "0       2018  1  1   0   6.2  92.69        0.06   98.67  13.98\n",
      "1       2018  1  1   1  5.65  90.69        0.01    98.9  14.07\n",
      "2       2018  1  1   2  4.95  92.25        0.04   99.03  12.05\n",
      "3       2018  1  1   3   4.7  94.31        0.18   99.06  11.05\n",
      "4       2018  1  1   4  4.79  94.62        0.14    99.0  10.74\n",
      "...      ... .. ..  ..   ...    ...         ...     ...    ...\n",
      "175390  2023  1  1  19  7.11  98.69        0.05   100.0   5.96\n",
      "175391  2023  1  1  20  6.44  100.0        0.02  100.01   5.09\n",
      "175392  2023  1  1  21  5.96  100.0        0.02   99.98   4.83\n",
      "175393  2023  1  1  22  5.84  100.0        0.02   99.97    4.8\n",
      "175394  2023  1  1  23  5.93  100.0        0.02   99.98   4.87\n",
      "\n",
      "[175395 rows x 9 columns]\n"
     ]
    }
   ],
   "source": [
    "import csv\n",
    "import requests\n",
    "import pandas as pd\n",
    "\n",
    "CSV_URL = \"https://power.larc.nasa.gov/api/temporal/hourly/point?Time=LST&parameters=T2M,RH2M,PRECTOTCORR,PS,WS50M&community=RE&longitude=-0.1677&latitude=51.4627&start=20180101&end=20230101&format=CSV\"\n",
    "CSV_FILE = \"weather_data.csv\"\n",
    "\n",
    "try:\n",
    "    response = requests.get(CSV_URL)\n",
    "\n",
    "    # Check if the request was successful\n",
    "    if response.status_code == 200:\n",
    "        with requests.Session() as s:\n",
    "            download = s.get(CSV_URL)\n",
    "\n",
    "            decoded_content = download.content.decode('utf-8')\n",
    "\n",
    "            csv_reader = csv.reader(decoded_content.splitlines(), delimiter=',')\n",
    "            data = list(csv_reader)\n",
    "    else:\n",
    "        raise Exception(\"API request failed with status code {}\".format(response.status_code))\n",
    "except:\n",
    "    # If the API request failed, try reading data from the CSV file\n",
    "    with open(CSV_FILE, newline='') as f:\n",
    "        reader = csv.reader(f)\n",
    "        data = list(reader)\n",
    "\n",
    "# Use the data obtained from either the API or the CSV file\n",
    "\n",
    "\n",
    "data = data[13:]\n",
    "\n",
    "\n",
    "\n",
    "file = open('weather_data_updated.csv', 'a+', newline ='')\n",
    " \n",
    "# writing the data into the file\n",
    "with file:   \n",
    "    write = csv.writer(file)\n",
    "    write.writerows(data)\n",
    "\n",
    "df = pd.read_csv(\"weather_data_updated.csv\")\n",
    "\n",
    "print(df)\n"
   ]
  },
  {
   "cell_type": "code",
   "execution_count": 42,
   "metadata": {},
   "outputs": [
    {
     "name": "stdout",
     "output_type": "stream",
     "text": [
      "       YEAR  MO  DY  HR   T2M    RH2M  PRECTOTCORR      PS  WS50M\n",
      "0      2018   1   1   0  6.20   92.69         0.06   98.67  13.98\n",
      "1      2018   1   1   1  5.65   90.69         0.01   98.90  14.07\n",
      "2      2018   1   1   2  4.95   92.25         0.04   99.03  12.05\n",
      "3      2018   1   1   3  4.70   94.31         0.18   99.06  11.05\n",
      "4      2018   1   1   4  4.79   94.62         0.14   99.00  10.74\n",
      "...     ...  ..  ..  ..   ...     ...          ...     ...    ...\n",
      "43843  2023   1   1  19  7.11   98.69         0.05  100.00   5.96\n",
      "43844  2023   1   1  20  6.44  100.00         0.02  100.01   5.09\n",
      "43845  2023   1   1  21  5.96  100.00         0.02   99.98   4.83\n",
      "43846  2023   1   1  22  5.84  100.00         0.02   99.97   4.80\n",
      "43847  2023   1   1  23  5.93  100.00         0.02   99.98   4.87\n",
      "\n",
      "[43848 rows x 9 columns]\n"
     ]
    }
   ],
   "source": [
    "import csv\n",
    "import requests\n",
    "import pandas as pd\n",
    "\n",
    "CSV_URL = \"https://power.larc.nasa.gov/api/temporal/hourly/point?Time=LST&parameters=T2M,RH2M,PRECTOTCORR,PS,WS50M&community=RE&longitude=-0.1677&latitude=51.4627&start=20180101&end=20230101&format=CSV\"\n",
    "CSV_FILE = \"weather_data.csv\"\n",
    "\n",
    "try:\n",
    "    response = requests.get(CSV_URL)\n",
    "\n",
    "    # Check if the request was successful\n",
    "    if response.status_code == 200:\n",
    "        with requests.Session() as s:\n",
    "            download = s.get(CSV_URL)\n",
    "\n",
    "            decoded_content = download.content.decode('utf-8')\n",
    "\n",
    "            csv_reader = csv.reader(decoded_content.splitlines(), delimiter=',')\n",
    "            data = list(csv_reader)\n",
    "    else:\n",
    "        raise Exception(\"API request failed with status code {}\".format(response.status_code))\n",
    "except:\n",
    "    # If the API request failed, try reading data from the CSV file\n",
    "    with open(CSV_FILE, newline='') as f:\n",
    "        reader = csv.reader(f)\n",
    "        data = list(reader)\n",
    "\n",
    "# Use the data obtained from either the API or the CSV file\n",
    "\n",
    "\n",
    "data = data[13:]\n",
    "\n",
    "\n",
    "\n",
    "file = open('weather_data_updated.csv', 'w', newline ='')\n",
    " \n",
    "# writing the data into the file\n",
    "with file:   \n",
    "    write = csv.writer(file)\n",
    "    write.writerows(data)\n",
    "\n",
    "df = pd.read_csv(\"weather_data_updated.csv\")\n",
    "\n",
    "print(df)\n"
   ]
  }
 ],
 "metadata": {
  "kernelspec": {
   "display_name": "sns-final",
   "language": "python",
   "name": "python3"
  },
  "language_info": {
   "codemirror_mode": {
    "name": "ipython",
    "version": 3
   },
   "file_extension": ".py",
   "mimetype": "text/x-python",
   "name": "python",
   "nbconvert_exporter": "python",
   "pygments_lexer": "ipython3",
   "version": "3.7.16"
  },
  "orig_nbformat": 4,
  "vscode": {
   "interpreter": {
    "hash": "31c88cff65b6199c283c4fad00015aab940815a36e66ccbc3ce57c58211a10b4"
   }
  }
 },
 "nbformat": 4,
 "nbformat_minor": 2
}
